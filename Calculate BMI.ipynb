{
 "cells": [
  {
   "cell_type": "code",
   "execution_count": 2,
   "id": "a8e9bff7",
   "metadata": {},
   "outputs": [
    {
     "name": "stdout",
     "output_type": "stream",
     "text": [
      "What is your height in cm? 158\n",
      "What is your weight in kg? 55\n",
      "bình thường\n"
     ]
    }
   ],
   "source": [
    "height = int(input(\"What is your height in cm? \"))\n",
    "weight = int(input(\"What is your weight in kg? \"))\n",
    "\n",
    "BMI = weight/(height*height)*10000\n",
    "\n",
    "if BMI > 40:\n",
    "    print(\"béo phì cấp độ III\")\n",
    "    \n",
    "elif 35 <= BMI < 40:\n",
    "    print(\"ra béo phì cấp độ II\")\n",
    "\n",
    "elif 30 <= BMI < 35:\n",
    "    print(\"béo phì cấp độ I\")\n",
    "elif 25 <= BMI < 30:\n",
    "    print(\"thừa cân\")\n",
    "elif 18.5 <= BMI < 25:\n",
    "    print(\"bình thường\")\n",
    "elif 17 <= BMI < 18.5:\n",
    "    print(\"gầy cấp độ I\")\n",
    "elif 16 <= BMI < 17:\n",
    "    print(\"gầy cấp độ II\")\n",
    "else:\n",
    "    print(\"ra gầy cấp độ III\")"
   ]
  },
  {
   "cell_type": "code",
   "execution_count": null,
   "id": "82ca9d84",
   "metadata": {},
   "outputs": [],
   "source": []
  }
 ],
 "metadata": {
  "kernelspec": {
   "display_name": "Python 3 (ipykernel)",
   "language": "python",
   "name": "python3"
  },
  "language_info": {
   "codemirror_mode": {
    "name": "ipython",
    "version": 3
   },
   "file_extension": ".py",
   "mimetype": "text/x-python",
   "name": "python",
   "nbconvert_exporter": "python",
   "pygments_lexer": "ipython3",
   "version": "3.10.2"
  }
 },
 "nbformat": 4,
 "nbformat_minor": 5
}
